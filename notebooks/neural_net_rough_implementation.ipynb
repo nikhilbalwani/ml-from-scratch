{
 "cells": [
  {
   "cell_type": "code",
   "execution_count": 2,
   "metadata": {},
   "outputs": [],
   "source": [
    "import numpy as np\n",
    "from typing import Callable\n",
    "import abc"
   ]
  },
  {
   "cell_type": "code",
   "execution_count": 3,
   "metadata": {},
   "outputs": [],
   "source": [
    "class Optimizer(abc.ABC):\n",
    "    @abc.abstractmethod\n",
    "    def __init__(self):\n",
    "        pass\n",
    "    @abc.abstractmethod\n",
    "    def optimize(self):\n",
    "        pass"
   ]
  },
  {
   "cell_type": "code",
   "execution_count": 4,
   "metadata": {},
   "outputs": [],
   "source": [
    "class GradientDescentOptimizer(Optimizer):\n",
    "    def __init__(self, learning_rate: float = 0.01):\n",
    "        self.learning_rate = learning_rate\n",
    "    \n",
    "    def optimize(self, val, grad):\n",
    "        return val - self.learning_rate * grad"
   ]
  },
  {
   "cell_type": "code",
   "execution_count": 5,
   "metadata": {},
   "outputs": [],
   "source": [
    "class ActivationFunction(abc.ABC):\n",
    "    @abc.abstractmethod\n",
    "    def __call__(self, x):\n",
    "        pass\n",
    "    @abc.abstractmethod\n",
    "    def gradient(self, x):\n",
    "        pass"
   ]
  },
  {
   "cell_type": "code",
   "execution_count": 6,
   "metadata": {},
   "outputs": [],
   "source": [
    "class Sigmoid(ActivationFunction):\n",
    "    def __call__(self, x):\n",
    "        return 1 / (1 + np.exp(-x))\n",
    "    \n",
    "    def gradient(self, x):\n",
    "        sig = self.__call(x)\n",
    "        return sig * (1 - sig)"
   ]
  },
  {
   "cell_type": "code",
   "execution_count": 7,
   "metadata": {},
   "outputs": [],
   "source": [
    "class ReLU(ActivationFunction):\n",
    "    def __call__(self, x):\n",
    "        return np.where(x >= 0, x, 0)\n",
    "    \n",
    "    def gradient(self, x):\n",
    "        return np.where(x >= 0, 1, 0)"
   ]
  },
  {
   "cell_type": "code",
   "execution_count": 8,
   "metadata": {},
   "outputs": [],
   "source": [
    "class Initializer(abc.ABC):\n",
    "    @abc.abstractmethod\n",
    "    def __call__(self, var):\n",
    "        pass"
   ]
  },
  {
   "cell_type": "code",
   "execution_count": 9,
   "metadata": {},
   "outputs": [],
   "source": [
    "class UniformInitializer(Initializer):\n",
    "    def __call__(self, mean, var, shape):\n",
    "        stddev = np.sqrt(var)\n",
    "        lim = np.sqrt(3) * stddev\n",
    "        \n",
    "        return np.random.uniform(-lim, lim, shape)"
   ]
  },
  {
   "cell_type": "code",
   "execution_count": 10,
   "metadata": {},
   "outputs": [],
   "source": [
    "class Layer(abc.ABC):\n",
    "    @abc.abstractmethod\n",
    "    def __init__(self):\n",
    "        pass\n",
    "    \n",
    "    @abc.abstractmethod\n",
    "    def set_optimizer(self, optimizer):\n",
    "        pass\n",
    "    \n",
    "    @abc.abstractmethod\n",
    "    def forward_pass(self, X):\n",
    "        pass\n",
    "    \n",
    "    @abc.abstractmethod\n",
    "    def backward_pass(self, X):\n",
    "        pass\n",
    "    \n",
    "    @abc.abstractmethod\n",
    "    def output_shape(self):\n",
    "        pass"
   ]
  },
  {
   "cell_type": "code",
   "execution_count": 50,
   "metadata": {},
   "outputs": [],
   "source": [
    "class Dense(Layer):\n",
    "    def __init__(self, n_units, input_shape):\n",
    "        self.n_units = n_units\n",
    "        \n",
    "        if len(input_shape) != 2:\n",
    "            raise Exception('Input shape other than 2 not supported.')\n",
    "        \n",
    "        self.input_shape = input_shape\n",
    "    \n",
    "    def output_shape(self):\n",
    "        return (self.n_units, self.input_shape[1])\n",
    "    \n",
    "    def set_activation(self, activation):\n",
    "        if not isinstance(activation, Activation):\n",
    "            raise Exception('The activation object provided is not an instance of Activation class.')\n",
    "        \n",
    "        self.activation = activation\n",
    "    \n",
    "    def initialize(self, initializer):\n",
    "        if not isinstance(initializer, Initializer):\n",
    "            raise Exception('The initializer object provided is not an instance of Initializer class.')\n",
    "        \n",
    "        self.initializer = initializer\n",
    "        \n",
    "        self.W = self.initializer(mean=0, var=1/self.n_units, shape=(self.n_units, self.input_shape[0]))\n",
    "        self.b = self.initializer(mean=0, var=1/self.n_units, shape=(self.n_units, 1))\n",
    "    \n",
    "    def set_optimizer(self, optimizer):\n",
    "        \n",
    "        if not isinstance(optimizer, Optimizer):\n",
    "            raise Exception('The optimizer object provided is not an instance of Optimizer class.')\n",
    "        \n",
    "        self.optimizer = optimizer\n",
    "    \n",
    "    def forward_pass(self, X):\n",
    "        return self.W.dot(X) + b\n",
    "    \n",
    "    def backward_pass(self, cum_grad, X):\n",
    "        grad_W = cum_grad.dot(X.T)\n",
    "        grad_b = np.sum(cum_grad, axis=1)\n",
    "        \n",
    "        self.W = self.optimizer.optimize(self.W, grad_W)\n",
    "        self.b = self.optimizer.optimize(self.b, grad_b)"
   ]
  },
  {
   "cell_type": "code",
   "execution_count": 58,
   "metadata": {},
   "outputs": [],
   "source": [
    "dense_layer = Dense(n_units=5, input_shape=(3, 12))"
   ]
  },
  {
   "cell_type": "code",
   "execution_count": 59,
   "metadata": {},
   "outputs": [
    {
     "data": {
      "text/plain": [
       "(5, 12)"
      ]
     },
     "execution_count": 59,
     "metadata": {},
     "output_type": "execute_result"
    }
   ],
   "source": [
    "dense_layer.output_shape()"
   ]
  },
  {
   "cell_type": "code",
   "execution_count": 60,
   "metadata": {},
   "outputs": [],
   "source": [
    "dense_layer.initialize(UniformInitializer())"
   ]
  },
  {
   "cell_type": "code",
   "execution_count": 61,
   "metadata": {},
   "outputs": [],
   "source": [
    "dense_layer.set_optimizer(GradientDescentOptimizer())"
   ]
  },
  {
   "cell_type": "code",
   "execution_count": 62,
   "metadata": {},
   "outputs": [
    {
     "data": {
      "text/plain": [
       "array([[-0.71332766,  0.21712796, -0.63873653],\n",
       "       [ 0.63485774,  0.46681522, -0.52448592],\n",
       "       [ 0.17531463, -0.24592166, -0.26128886],\n",
       "       [ 0.07211597, -0.61977781, -0.59363191],\n",
       "       [ 0.47887525,  0.65701514, -0.74923248]])"
      ]
     },
     "execution_count": 62,
     "metadata": {},
     "output_type": "execute_result"
    }
   ],
   "source": [
    "dense_layer.W"
   ]
  },
  {
   "cell_type": "code",
   "execution_count": 63,
   "metadata": {},
   "outputs": [],
   "source": [
    "dense_layer.backward_pass(cum_grad=np.ones((5, 12)), X=np.ones((3, 12)))"
   ]
  },
  {
   "cell_type": "code",
   "execution_count": 64,
   "metadata": {},
   "outputs": [
    {
     "data": {
      "text/plain": [
       "array([[-0.83332766,  0.09712796, -0.75873653],\n",
       "       [ 0.51485774,  0.34681522, -0.64448592],\n",
       "       [ 0.05531463, -0.36592166, -0.38128886],\n",
       "       [-0.04788403, -0.73977781, -0.71363191],\n",
       "       [ 0.35887525,  0.53701514, -0.86923248]])"
      ]
     },
     "execution_count": 64,
     "metadata": {},
     "output_type": "execute_result"
    }
   ],
   "source": [
    "dense_layer.W"
   ]
  },
  {
   "cell_type": "code",
   "execution_count": null,
   "metadata": {},
   "outputs": [],
   "source": []
  }
 ],
 "metadata": {
  "kernelspec": {
   "display_name": "Python 3",
   "language": "python",
   "name": "python3"
  },
  "language_info": {
   "codemirror_mode": {
    "name": "ipython",
    "version": 3
   },
   "file_extension": ".py",
   "mimetype": "text/x-python",
   "name": "python",
   "nbconvert_exporter": "python",
   "pygments_lexer": "ipython3",
   "version": "3.7.3"
  }
 },
 "nbformat": 4,
 "nbformat_minor": 4
}
