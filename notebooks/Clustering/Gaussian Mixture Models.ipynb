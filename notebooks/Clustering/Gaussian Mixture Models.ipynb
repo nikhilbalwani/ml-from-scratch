{
 "cells": [
  {
   "cell_type": "code",
   "execution_count": 1,
   "metadata": {},
   "outputs": [],
   "source": [
    "import numpy as np\n",
    "from scipy.stats import multivariate_normal\n",
    "from sklearn.datasets import make_spd_matrix\n",
    "import matplotlib.pyplot as plt"
   ]
  },
  {
   "cell_type": "code",
   "execution_count": 2,
   "metadata": {},
   "outputs": [],
   "source": [
    "class Cluster:\n",
    "    \n",
    "    def __init__(self, d):\n",
    "        self.d = d\n",
    "        self.pi = np.random.rand()\n",
    "        self.mu = np.random.rand(self.d) * 10\n",
    "        self.cov = make_spd_matrix(self.d, self.d)\n",
    "    \n",
    "    def compute_resp(self, X):\n",
    "        self.resp = self.pi * multivariate_normal(mean=self.mu, cov=self.cov).pdf(X)\n",
    "        return self.resp"
   ]
  },
  {
   "cell_type": "code",
   "execution_count": 3,
   "metadata": {},
   "outputs": [],
   "source": [
    "cluster = Cluster(5)"
   ]
  },
  {
   "cell_type": "code",
   "execution_count": 4,
   "metadata": {},
   "outputs": [
    {
     "data": {
      "text/plain": [
       "array([8.10466849e-114, 3.57063353e-110, 1.63368302e-120, 1.02263438e-110,\n",
       "       2.73902923e-118, 2.09595400e-122, 1.86355130e-118, 9.77027630e-117,\n",
       "       1.58474647e-103, 5.76233730e-110])"
      ]
     },
     "execution_count": 4,
     "metadata": {},
     "output_type": "execute_result"
    }
   ],
   "source": [
    "X = np.random.rand(10, 5)\n",
    "cluster.compute_resp(X)"
   ]
  },
  {
   "cell_type": "code",
   "execution_count": 5,
   "metadata": {},
   "outputs": [],
   "source": [
    "class GMM:\n",
    "    def __init__(self, k, d):\n",
    "        self.k = k\n",
    "        self.d = d\n",
    "        \n",
    "        self.clusters = [Cluster(self.d) for _ in range(self.k)]\n",
    "        \n",
    "    def do_estep(self, X):\n",
    "        resp_normalizer = 0\n",
    "        \n",
    "        for cluster in self.clusters:\n",
    "            resp_normalizer += cluster.compute_resp(X)\n",
    "        \n",
    "        for cluster in self.clusters:\n",
    "            cluster.resp /= resp_normalizer\n",
    "    \n",
    "    def do_mstep(self, X):\n",
    "        for cluster in self.clusters:\n",
    "            cluster_resp = cluster.resp\n",
    "            cluster.mu = np.sum(X.T * cluster_resp, axis=1) / sum(cluster.resp)\n",
    "            cluster.cov = ((X - cluster.mu).T * cluster_resp).dot((X - cluster.mu)) / sum(cluster.resp)\n",
    "            cluster.pi = sum(cluster.resp) / len(X)"
   ]
  },
  {
   "cell_type": "code",
   "execution_count": 6,
   "metadata": {},
   "outputs": [],
   "source": [
    "gmm = GMM(3, 2)"
   ]
  },
  {
   "cell_type": "code",
   "execution_count": 7,
   "metadata": {},
   "outputs": [],
   "source": [
    "X1 = np.random.multivariate_normal(mean=[1, 1], cov=[[1, 0], [0, 1]], size=(100))\n",
    "X2 = np.random.multivariate_normal(mean=[10, 1], cov=[[1, 0], [0, 1]], size=(100))\n",
    "X3 = np.random.multivariate_normal(mean=[10, 19], cov=[[1, 0], [0, 1]], size=(100))\n",
    "X = np.concatenate([X1, X2, X3])"
   ]
  },
  {
   "cell_type": "code",
   "execution_count": 11,
   "metadata": {},
   "outputs": [],
   "source": [
    "for _ in range(100):\n",
    "    gmm.do_estep(X)\n",
    "    gmm.do_mstep(X)"
   ]
  },
  {
   "cell_type": "code",
   "execution_count": 12,
   "metadata": {},
   "outputs": [
    {
     "data": {
      "image/png": "[encoded data removed]",
      "text/plain": [
       "<Figure size 432x288 with 1 Axes>"
      ]
     },
     "metadata": {
      "needs_background": "light"
     },
     "output_type": "display_data"
    }
   ],
   "source": [
    "plt.scatter([x for x, _ in X], [y for _, y in X])\n",
    "\n",
    "for cluster in gmm.clusters:\n",
    "    plt.scatter([cluster.mu[0]], [cluster.mu[1]])"
   ]
  },
  {
   "cell_type": "code",
   "execution_count": 10,
   "metadata": {},
   "outputs": [
    {
     "name": "stdout",
     "output_type": "stream",
     "text": [
      "[9.946808201047293] [19.023709784755134]\n",
      "[3.270042414322039] [0.8928176666735761]\n",
      "[10.121977834209806] [1.1788296779118703]\n"
     ]
    }
   ],
   "source": [
    "for cluster in gmm.clusters:\n",
    "    print([cluster.mu[0]], [cluster.mu[1]])"
   ]
  },
  {
   "cell_type": "code",
   "execution_count": null,
   "metadata": {},
   "outputs": [],
   "source": []
  }
 ],
 "metadata": {
  "kernelspec": {
   "display_name": "Python 3",
   "language": "python",
   "name": "python3"
  },
  "language_info": {
   "codemirror_mode": {
    "name": "ipython",
    "version": 3
   },
   "file_extension": ".py",
   "mimetype": "text/x-python",
   "name": "python",
   "nbconvert_exporter": "python",
   "pygments_lexer": "ipython3",
   "version": "3.7.3"
  }
 },
 "nbformat": 4,
 "nbformat_minor": 2
}
