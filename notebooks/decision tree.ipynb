{
 "cells": [
  {
   "cell_type": "code",
   "execution_count": 42,
   "metadata": {},
   "outputs": [],
   "source": [
    "from sklearn.datasets import load_iris\n",
    "import numpy as np\n",
    "import copy\n",
    "import sys"
   ]
  },
  {
   "cell_type": "code",
   "execution_count": 17,
   "metadata": {},
   "outputs": [
    {
     "data": {
      "text/plain": [
       "array([1.5  , 2.5  , 3.5  , 4.375])"
      ]
     },
     "execution_count": 17,
     "metadata": {},
     "output_type": "execute_result"
    }
   ],
   "source": [
    "def get_splits(X, i):\n",
    "    unique_vals = np.unique(X[:, i])\n",
    "    splits = np.zeros(unique_vals.shape[0] - 1)\n",
    "    \n",
    "    for i in range(len(splits)):\n",
    "        # Choose a value in between the two unique vals\n",
    "        splits[i] = (unique_vals[i] + unique_vals[i + 1]) / 2\n",
    "        \n",
    "    return splits\n",
    "\n",
    "get_splits(np.array([[1, 1, 1, 1, 2, 2, 2, 2, 2, 3, 3, 3, 3, 4, 4, 4, 4.75]]).T, 0)"
   ]
  },
  {
   "cell_type": "code",
   "execution_count": 18,
   "metadata": {},
   "outputs": [],
   "source": [
    "def get_entropy(target):\n",
    "    _, counts = np.unique(target, return_counts=True)\n",
    "    \n",
    "    probs = counts / target.shape[0]\n",
    "    \n",
    "    return -np.sum(probs * np.log2(probs), axis=0)"
   ]
  },
  {
   "cell_type": "code",
   "execution_count": 19,
   "metadata": {},
   "outputs": [
    {
     "data": {
      "text/plain": [
       "-0.0"
      ]
     },
     "execution_count": 19,
     "metadata": {},
     "output_type": "execute_result"
    }
   ],
   "source": [
    "get_entropy(np.array([1, 1, 1, 1, 1, 1, 1, 1]))"
   ]
  },
  {
   "cell_type": "code",
   "execution_count": 20,
   "metadata": {},
   "outputs": [],
   "source": [
    "def get_information_gain(y, left_y, right_y):\n",
    "    return get_entropy(y) - get_entropy(left_y) - get_entropy(right_y)"
   ]
  },
  {
   "cell_type": "code",
   "execution_count": 21,
   "metadata": {},
   "outputs": [],
   "source": [
    "def get_best_split(X, y):\n",
    "    \n",
    "    max_info_gain = -sys.maxsize\n",
    "    max_left_y = None\n",
    "    max_right_y = None\n",
    "    max_left_X = None\n",
    "    max_right_X = None\n",
    "    \n",
    "    for i in range(X.shape[1]):\n",
    "        splits = get_splits(X, i)\n",
    "        \n",
    "        for split in splits:\n",
    "            left_indices = X[:, i] < split\n",
    "            right_indices = X[:, i] > split\n",
    "\n",
    "            left_y = y[left_indices]\n",
    "            right_y = y[right_indices]\n",
    "\n",
    "            info_gain = get_information_gain(y, left_y, right_y)\n",
    "\n",
    "            if info_gain > max_info_gain:\n",
    "                max_info_gain = info_gain\n",
    "                max_left_y = left_y\n",
    "                max_right_y = right_y\n",
    "                max_left_X = X[left_indices, :]\n",
    "                max_right_X = X[right_indices, :]\n",
    "                max_split = split\n",
    "                max_feature = i\n",
    "    \n",
    "    return max_left_X, max_left_y, max_right_X, max_right_y, max_split, max_feature, max_info_gain"
   ]
  },
  {
   "cell_type": "code",
   "execution_count": 22,
   "metadata": {},
   "outputs": [
    {
     "data": {
      "text/plain": [
       "(array([[0],\n",
       "        [0]]), array([0, 0]), array([[1],\n",
       "        [1],\n",
       "        [1],\n",
       "        [2],\n",
       "        [2],\n",
       "        [2]]), array([1, 1, 1, 2, 2, 1]), 0.5, 0, 0.5817041659455104)"
      ]
     },
     "execution_count": 22,
     "metadata": {},
     "output_type": "execute_result"
    }
   ],
   "source": [
    "X = np.array([[0, 0, 1, 1, 1, 2, 2, 2]]).T\n",
    "y = np.array([0, 0, 1, 1, 1, 2, 2, 1])\n",
    "splits = np.array([.5, 1.5])\n",
    "get_best_split(X, y)"
   ]
  },
  {
   "cell_type": "code",
   "execution_count": 23,
   "metadata": {},
   "outputs": [],
   "source": [
    "def get_probs(y, n_classes):\n",
    "    \n",
    "    return np.bincount(y, minlength=n_classes) / len(y)"
   ]
  },
  {
   "cell_type": "code",
   "execution_count": 24,
   "metadata": {},
   "outputs": [],
   "source": [
    "def construct_tree(X, y, min_info_gain, max_depth, min_sample_split, tree, n_classes):\n",
    "    \n",
    "    if X.shape[0] < min_sample_split or max_depth < 0:\n",
    "        tree['probs'] = get_probs(y, n_classes)\n",
    "        return\n",
    "    \n",
    "    left_X,\\\n",
    "    left_y,\\\n",
    "    right_X,\\\n",
    "    right_y,\\\n",
    "    split,\\\n",
    "    feature,\\\n",
    "    info_gain = get_best_split(X, y)\n",
    "\n",
    "    if info_gain < min_info_gain:\n",
    "        tree['probs'] = get_probs(y, n_classes)\n",
    "        return\n",
    "    \n",
    "    tree['feature'] = feature\n",
    "    tree['split'] = split\n",
    "    tree['info_gain'] = info_gain\n",
    "    tree['left'] = {}\n",
    "    tree['right'] = {}\n",
    "    \n",
    "    construct_tree(left_X, left_y, min_info_gain, max_depth - 1, min_sample_split, tree['left'], n_classes)\n",
    "    construct_tree(right_X, right_y, min_info_gain, max_depth - 1, min_sample_split, tree['right'], n_classes)"
   ]
  },
  {
   "cell_type": "code",
   "execution_count": 25,
   "metadata": {},
   "outputs": [],
   "source": [
    "def predict_row(x_row, tree):\n",
    "    \n",
    "    # If this is not a leaf node\n",
    "    if 'split' not in tree:\n",
    "        return copy.deepcopy(tree['probs'])\n",
    "    \n",
    "    if x_row[tree['feature']] < tree['split']:\n",
    "        return predict_row(x_row, tree['left'])\n",
    "    \n",
    "    return predict_row(x_row, tree['right'])"
   ]
  },
  {
   "cell_type": "code",
   "execution_count": 35,
   "metadata": {},
   "outputs": [],
   "source": [
    "class DecisionTree:\n",
    "    def __init__(self, max_depth=3, min_sample_split=10, min_info_gain=1e-7):\n",
    "        self.max_depth = max_depth\n",
    "        self.min_sample_split = min_sample_split\n",
    "        self.min_info_gain = min_info_gain\n",
    "        self.tree = {}\n",
    "        \n",
    "    def fit(self, X, y):\n",
    "        self.n_classes = np.unique(y).shape[0]\n",
    "        construct_tree(X, y, self.min_info_gain, self.max_depth, self.min_sample_split, self.tree, self.n_classes)\n",
    "    \n",
    "    def predict_proba(self, X):\n",
    "        \n",
    "        res = np.zeros((X.shape[0], self.n_classes))\n",
    "        \n",
    "        for i in range(X.shape[0]):\n",
    "            x_row = X[i, :]\n",
    "            \n",
    "            probs = predict_row(x_row, self.tree)\n",
    "        \n",
    "            res[i, :] = probs\n",
    "        \n",
    "        return res\n",
    "    \n",
    "    def predict(self, X):\n",
    "        proba = self.predict_proba(X)\n",
    "        \n",
    "        return np.argmax(proba, axis=1)"
   ]
  },
  {
   "cell_type": "code",
   "execution_count": 27,
   "metadata": {},
   "outputs": [],
   "source": [
    "iris_data = load_iris()\n",
    "X = iris_data['data']\n",
    "y = iris_data['target']"
   ]
  },
  {
   "cell_type": "code",
   "execution_count": 37,
   "metadata": {},
   "outputs": [],
   "source": [
    "model = DecisionTree()"
   ]
  },
  {
   "cell_type": "code",
   "execution_count": 38,
   "metadata": {},
   "outputs": [],
   "source": [
    "model.fit(X, y)"
   ]
  },
  {
   "cell_type": "code",
   "execution_count": 40,
   "metadata": {},
   "outputs": [],
   "source": [
    "y_pred = model.predict(X)"
   ]
  },
  {
   "cell_type": "code",
   "execution_count": 41,
   "metadata": {},
   "outputs": [
    {
     "data": {
      "text/plain": [
       "0.9733333333333334"
      ]
     },
     "execution_count": 41,
     "metadata": {},
     "output_type": "execute_result"
    }
   ],
   "source": [
    "from sklearn.metrics import accuracy_score\n",
    "accuracy_score(y, y_pred)"
   ]
  },
  {
   "cell_type": "code",
   "execution_count": null,
   "metadata": {},
   "outputs": [],
   "source": []
  }
 ],
 "metadata": {
  "kernelspec": {
   "display_name": "Python 3",
   "language": "python",
   "name": "python3"
  },
  "language_info": {
   "codemirror_mode": {
    "name": "ipython",
    "version": 3
   },
   "file_extension": ".py",
   "mimetype": "text/x-python",
   "name": "python",
   "nbconvert_exporter": "python",
   "pygments_lexer": "ipython3",
   "version": "3.7.3"
  }
 },
 "nbformat": 4,
 "nbformat_minor": 2
}
